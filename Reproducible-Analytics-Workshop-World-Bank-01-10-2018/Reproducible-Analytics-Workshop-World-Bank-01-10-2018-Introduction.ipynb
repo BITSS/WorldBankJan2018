{
 "cells": [
  {
   "cell_type": "markdown",
   "metadata": {
    "nbpresent": {
     "id": "272101f3-e300-4d1a-82ab-2d91770b1072"
    },
    "slideshow": {
     "slide_type": "slide"
    }
   },
   "source": [
    "# Workshop on Reproducible Science with `Jupyter Notebook` and `Python` "
   ]
  },
  {
   "cell_type": "markdown",
   "metadata": {
    "slideshow": {
     "slide_type": "fragment"
    }
   },
   "source": [
    "## Sam Fraiberger\n",
    "- Data Scientist, Big Data Program\n",
    "- Visiting Scholar, NYU Computer Science\n",
    "- Fellow, Harvard IQSS\n",
    "\n",
    "---"
   ]
  },
  {
   "cell_type": "markdown",
   "metadata": {
    "slideshow": {
     "slide_type": "slide"
    }
   },
   "source": [
    "# Objectives\n",
    "\n",
    "- Understand reproducible workflow and its value\n",
    "    - To work more efficiently\n",
    "    - To help help the advancement of Science\n",
    "- Learn practical tools to create reproducible workflow, in particular by:\n",
    "    - Familiarizing yourself with Jupyter Notebooks, and \n",
    "    - Gaining some knowledge of Python\n",
    "- Have the confidence to continue improving reproducibility of your research"
   ]
  },
  {
   "cell_type": "markdown",
   "metadata": {
    "slideshow": {
     "slide_type": "slide"
    }
   },
   "source": [
    "# Motivation\n",
    "\n",
    "- The sciences have a reproducibility problem. [Nature article](http://www.nature.com/news/1-500-scientists-lift-the-lid-on-reproducibility-1.19970) : **many published studies cannot be reproduced**\n",
    "\n",
    "    - Nature's survey of 1,576 researchers \n",
    "    - More than 70% of researchers have tried and failed to reproduce another scientist's experiments \n",
    "    - More than half have failed to reproduce their own experiments\n",
    " \n",
    "- Science retracted a study of how canvassers can sway people's opinions about gay marriage [538 story](http://fivethirtyeight.com/features/how-two-grad-students-uncovered-michael-lacour-fraud-and-a-way-to-change-opinions-on-transgender-rights/)\n",
    "\n",
    "- Reinhart and Roghoff (2010) controversy [New Yorker Story](https://www.newyorker.com/news/john-cassidy/the-reinhart-and-rogoff-controversy-a-summing-up)"
   ]
  },
  {
   "cell_type": "markdown",
   "metadata": {
    "slideshow": {
     "slide_type": "slide"
    }
   },
   "source": [
    "# What is Reproducibility ?\n",
    "\n",
    "- **Documentation**: note the difference between binary files (e.g. docx) and .txt files and why text files are preferred for documentation\n",
    "- **Organization**: tools to organize your projects so that you don’t have a single folder with hundreds of files\n",
    "- **Automation**: the power of scripting to create automated data analyses\n",
    "- **Dissemination**: publishing is not the end of your analysis, rather it is a way station towards your future research and the future research of others"
   ]
  },
  {
   "cell_type": "markdown",
   "metadata": {
    "slideshow": {
     "slide_type": "slide"
    }
   },
   "source": [
    "# Who should care?\n",
    "\n",
    "- Anyone who performs computational analysis\n",
    "- Anyone using in Excel/Stata and would rather work >10 times faster and in a more reliable way\n",
    "- Anyone familiar with this situation:\n",
    "![irreproducible](./images/irreproducible.png)\n",
    "\n",
    "---"
   ]
  },
  {
   "cell_type": "markdown",
   "metadata": {
    "slideshow": {
     "slide_type": "slide"
    }
   },
   "source": [
    "# Prerequitise\n",
    "- Basic notion of programming, preferably in Python\n",
    "- Basic notion of statistics\n",
    "\n",
    "---"
   ]
  },
  {
   "cell_type": "markdown",
   "metadata": {
    "slideshow": {
     "slide_type": "slide"
    }
   },
   "source": [
    "# Plan"
   ]
  },
  {
   "cell_type": "markdown",
   "metadata": {
    "nbpresent": {
     "id": "cbacfa14-b73e-40cf-b2ad-23748b3efab1"
    },
    "slideshow": {
     "slide_type": "subslide"
    }
   },
   "source": [
    "### Part 1 - Working With Jupyter Notebook\n",
    "### Part 2 -Data Analysis in Python"
   ]
  },
  {
   "cell_type": "markdown",
   "metadata": {
    "slideshow": {
     "slide_type": "slide"
    }
   },
   "source": [
    "# Installing Jupyter Notebook and Python\n",
    "\n",
    "- **Requirement**: reasonably up-to-date browser\n",
    "- Go to [Anaconda](https://www.continuum.io/anaconda)\n",
    "- All in One Installer\n",
    "- **Python version 3.x**\n",
    "- Contains [`Jupyter Notebook`](http://jupyter.org/), a programming environment that runs in a web browser"
   ]
  },
  {
   "cell_type": "markdown",
   "metadata": {
    "slideshow": {
     "slide_type": "subslide"
    }
   },
   "source": [
    "## Windows\n",
    "\n",
    "[Video tutorial](https://www.youtube.com/watch?v=xxQ0mzZ8UvA)\n",
    "\n",
    "1. Open http://continuum.io/downloads with your web browser.\n",
    "1. Download the `Python 3` installer for Windows.\n",
    "1. Install `Python 3` using all of the defaults for installation except make sure to check **Make Anaconda the default Python**.\n",
    "\n",
    "---"
   ]
  },
  {
   "cell_type": "markdown",
   "metadata": {
    "slideshow": {
     "slide_type": "subslide"
    }
   },
   "source": [
    "## Mac OSX\n",
    "\n",
    "[Video tutorial](https://www.youtube.com/watch?v=TcSAln46u9U)\n",
    "\n",
    "1. Open http://continuum.io/downloads with your web browser.\n",
    "1. Download the `Python 3` installer for OS X.\n",
    "1. Install `Python 3` using all of the defaults for installation.\n",
    "\n",
    "---"
   ]
  },
  {
   "cell_type": "markdown",
   "metadata": {
    "slideshow": {
     "slide_type": "subslide"
    }
   },
   "source": [
    "## Linux\n",
    "\n",
    "1. Open http://continuum.io/downloads with your web browser.\n",
    "1. Download the `Python 3` installer for Linux.\n",
    "1. Install `Python 3` using all of the defaults for installation. (Installation requires using the shell. If you aren't comfortable doing the installation yourself stop here and request help at the workshop.)\n",
    "1. Open a terminal window.\n",
    "1. Type:\n",
    "~~~\n",
    "bash Anaconda3-\n",
    "~~~\n",
    "and then press tab. The name of the file you just downloaded should appear.\n",
    "\n",
    "1. Press enter. You will follow the text-only prompts. When there is a colon at the bottom of the screen press the down arrow to move down through the text. Type yes and press enter to approve the license. Press enter to approve the default location for the files. Type yes and press enter to prepend Anaconda to your PATH (this makes the Anaconda distribution the default `Python`).\n",
    "\n",
    "---"
   ]
  },
  {
   "cell_type": "markdown",
   "metadata": {
    "slideshow": {
     "slide_type": "slide"
    }
   },
   "source": [
    "# Additional Resources"
   ]
  },
  {
   "cell_type": "markdown",
   "metadata": {
    "slideshow": {
     "slide_type": "subslide"
    }
   },
   "source": [
    "## `Project Jupyter`\n",
    "\n",
    "- `Project Jupyter` [Homepage](http://jupyter.org/)\n",
    "- `Project Jupyter` [Google group](https://groups.google.com/forum/#!forum/jupyter)\n",
    "- `Jupyter` [documentation](https://jupyter.readthedocs.io/en/latest/)\n",
    "- [GitHub](https://github.com/jupyter/help)\n",
    "- Free `Project Jupyter` tutorials:\n",
    "    - [Readthedocs](https://jupyter-notebook-beginner-guide.readthedocs.io/en/latest/)\n",
    "    - [YouTube](https://www.youtube.com/watch?v=Rc4JQWowG5I)\n",
    "    \n",
    "---"
   ]
  },
  {
   "cell_type": "markdown",
   "metadata": {
    "slideshow": {
     "slide_type": "subslide"
    }
   },
   "source": [
    "## `Python`\n",
    "\n",
    "- [`Python`](https://www.python.org/)\n",
    "- `Python` [documentation](https://docs.python.org/3/)\n",
    "- `Python` [Google group](https://groups.google.com/forum/#!forum/comp.lang.python) - Note, there are many!\n",
    "- [Stack Overflow](http://stackoverflow.com/questions/tagged/python)\n",
    "- `Python` [Help](https://www.python.org/about/help/)\n",
    "- Free `Python` tutorials:\n",
    "    - [Google's Python tutorial](https://developers.google.com/edu/python/)\n",
    "    - [Data Camp](https://www.datacamp.com/)\n",
    "    - [Berkeley Institute for Data Science Python Boot Camp](https://www.youtube.com/playlist?list=PLKW2Azk23ZtSeBcvJi0JnL7PapedOvwz9)\n",
    "    \n",
    "---"
   ]
  }
 ],
 "metadata": {
  "kernelspec": {
   "display_name": "Python [default]",
   "language": "python",
   "name": "python3"
  },
  "language_info": {
   "codemirror_mode": {
    "name": "ipython",
    "version": 3
   },
   "file_extension": ".py",
   "mimetype": "text/x-python",
   "name": "python",
   "nbconvert_exporter": "python",
   "pygments_lexer": "ipython3",
   "version": "3.5.4"
  }
 },
 "nbformat": 4,
 "nbformat_minor": 2
}
