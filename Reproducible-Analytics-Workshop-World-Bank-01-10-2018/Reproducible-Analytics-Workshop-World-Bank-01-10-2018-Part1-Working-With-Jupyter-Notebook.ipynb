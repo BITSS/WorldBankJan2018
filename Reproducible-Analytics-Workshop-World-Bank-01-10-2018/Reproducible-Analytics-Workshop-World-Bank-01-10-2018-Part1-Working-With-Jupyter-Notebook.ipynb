{
 "cells": [
  {
   "cell_type": "markdown",
   "metadata": {
    "slideshow": {
     "slide_type": "slide"
    }
   },
   "source": [
    "# Part 1 - Working With Jupyter Notebook\n",
    "\n",
    "---"
   ]
  },
  {
   "cell_type": "markdown",
   "metadata": {
    "slideshow": {
     "slide_type": "slide"
    }
   },
   "source": [
    "# A - Introduction to Jupyter"
   ]
  },
  {
   "cell_type": "markdown",
   "metadata": {
    "slideshow": {
     "slide_type": "slide"
    }
   },
   "source": [
    "## What is Jupyter?\n",
    "\n",
    "Jupyter notebook, formerly known as IPython (or Interactive Python), is a flexible and powerful open source research tool that can help you keep a narrative of your coding process. The name Jupyter is an acronym of the three core languages it was designed for: **JU**lia, **PYT**hon, and **R**. Project Jupyter supports interactive data science and scientific computing across more than 40 programming languages.\n",
    "\n",
    "<img src=\"./images/Jupyter_logo.PNG\" style=\"width: 500px;\"/>\n",
    "<center><font size=\"2\">https://jupyter.org/</font></center>"
   ]
  },
  {
   "cell_type": "markdown",
   "metadata": {
    "slideshow": {
     "slide_type": "slide"
    }
   },
   "source": [
    "## Jupyter as Coding Diary\n",
    "\n",
    "You can think of the notebook as a lab or field diary that keeps a detailed record of the steps you take as you develop scripts and programming workflows. Just as you would with a field notebook, it is important to develop good note-taking habits. This workshop is designed to impart a set of skills, tools, and best practices you can implement in your own research to enhance reprodubility, which will make modifications, collaboration, and publishing easier. \n",
    "\n",
    "<img src=\"./images/Field-Code_Notes.png\" style=\"width: 750px;\"/>"
   ]
  },
  {
   "cell_type": "markdown",
   "metadata": {
    "slideshow": {
     "slide_type": "slide"
    }
   },
   "source": [
    "## Jupyter Architecture\n",
    "\n",
    "Jupyter is comprised of several components, some of which the user doesn't directly interact with, but should at least be aware of. On the **front-end**, the user will work with the:\n",
    "\n",
    "1. **Web Application:** Browser-based tool for interactive development of notebook documents \n",
    "2. **Notebook Document:** A representation of all content visible in the web application, including inputs and outputs of the computations, explanatory text, mathematics, images, and rich media representations of objects. These documents are internally JSON files and are saved with the .ipynb extension. Since JSON is a plain text format, they can be version-controlled and shared with colleagues."
   ]
  },
  {
   "cell_type": "markdown",
   "metadata": {
    "slideshow": {
     "slide_type": "subslide"
    }
   },
   "source": [
    "Jupyter also has some **back-end** processes, including the:\n",
    "\n",
    "3. **Kernel:** A separate process responsible for running user code. For the purposes of this workshop, we will be working on Python kernels, although Jupyter is capable of interfacing with other programming languages as well. \n",
    "4. **Notebook Server:** ? Communicates with kernel and routes the Python programming language to the web browser. \n",
    "\n",
    "<img src=\"./images/notebook_components.png\" style=\"width: 500px;\"/>\n",
    "\n",
    "#### Curious to learn more? Refer to these Jupyter documents:\n",
    "http://jupyter-notebook.readthedocs.io/en/latest/notebook.html\n",
    "http://jupyter.readthedocs.io/en/latest/architecture/how_jupyter_ipython_work.html"
   ]
  },
  {
   "cell_type": "markdown",
   "metadata": {
    "slideshow": {
     "slide_type": "slide"
    }
   },
   "source": [
    "## Why are Jupyter Notebooks a powerful tool for conducting reproducible research? \n",
    "\n",
    "Jupyter Notebooks are great because they **facilitate**:\n",
    "\n",
    "* **Documentation and literate programming** by combining rich-text narrative *concepts* & machine-readable *code*. The notebeook itself is a data-structure with metadata that can be easily read and parsed. \n",
    "* **Exploration & development**: Intermediate steps are saved in a clean, well documented format\n",
    "* **Communication/Collaboration**: sharing research with peers, collaborators, reviewers, public\n",
    "* **Publishing**: It is simple and quick switch between the development & publishing stage"
   ]
  },
  {
   "cell_type": "markdown",
   "metadata": {
    "slideshow": {
     "slide_type": "slide"
    }
   },
   "source": [
    "## Jupyter Ecosystem\n",
    "There has been considerable development by both Project Jupyter and external collaborators that have yielded a multitude of options for Jupyter users. This diagram gives a sample of some of the possibilities.\n",
    "<img src=\"./images/Jupyter_ecosystem.png\" style=\"width: 500px;\"/>"
   ]
  },
  {
   "cell_type": "markdown",
   "metadata": {
    "slideshow": {
     "slide_type": "slide"
    }
   },
   "source": [
    "# B - Play With Jupyter Notebook"
   ]
  },
  {
   "cell_type": "markdown",
   "metadata": {
    "slideshow": {
     "slide_type": "slide"
    }
   },
   "source": [
    "- Open a terminal\n",
    "- Type: jupyter notebook"
   ]
  },
  {
   "cell_type": "markdown",
   "metadata": {
    "slideshow": {
     "slide_type": "slide"
    }
   },
   "source": [
    "## Code Cells\n",
    "\n",
    "The notebook is built up from separate editable areas, or *cells*. A new notebook contains a single, executable code cell.\n",
    "\n",
    "Add a line of code and execute it by:\n",
    "- clicking the run button, or\n",
    "- click in the cell, and press shift-return"
   ]
  },
  {
   "cell_type": "code",
   "execution_count": 1,
   "metadata": {
    "slideshow": {
     "slide_type": "fragment"
    }
   },
   "outputs": [
    {
     "name": "stdout",
     "output_type": "stream",
     "text": [
      "hello world\n"
     ]
    }
   ],
   "source": [
    "print('hello world')"
   ]
  },
  {
   "cell_type": "markdown",
   "metadata": {
    "slideshow": {
     "slide_type": "fragment"
    }
   },
   "source": [
    "__Line numbering__ in code cells can be toggled with ESC-L."
   ]
  },
  {
   "cell_type": "markdown",
   "metadata": {
    "slideshow": {
     "slide_type": "slide"
    }
   },
   "source": [
    "## Navigating and Selecting Cells\n",
    "\n",
    "To select a cell, click on it. The selected cell will be surrounded by a box with the left hand side highlighted.\n",
    "\n",
    "Move the selection focus to the cell above/below using the keyboard up/down arrow keys.\n",
    "\n",
    "Additionally select adjacent cells using `SHIFT-UP ARROW` or `SHIFT-DOWN ARROW`."
   ]
  },
  {
   "cell_type": "markdown",
   "metadata": {
    "slideshow": {
     "slide_type": "slide"
    }
   },
   "source": [
    "## Managing Cells - Add, Delete, Reorder"
   ]
  },
  {
   "cell_type": "markdown",
   "metadata": {
    "slideshow": {
     "slide_type": "subslide"
    }
   },
   "source": [
    "__Add__ a new cell to the notebook by:\n",
    " - click the + button on the toolbar\n",
    " - `Insert -> Insert Cell Above` or `ESC-A`\n",
    " - `Insert -> Insert Cell Below` or `ESC-B`"
   ]
  },
  {
   "cell_type": "markdown",
   "metadata": {
    "slideshow": {
     "slide_type": "subslide"
    }
   },
   "source": [
    "__Delete__ a cell by selecting it and:\n",
    " - click the scissors button on the toolbar\n",
    " - `Edit -> Delete cells` or `ESC-X`\n",
    "\n",
    "__Undelete__ the last deleted cell:\n",
    "- `Edit -> Undo Delete cells` or `ESC-Z`\n",
    "\n",
    "Each cell has a __cell history__ associated with it. Use `CMD-Z` to step back through previous cell contents."
   ]
  },
  {
   "cell_type": "markdown",
   "metadata": {
    "slideshow": {
     "slide_type": "subslide"
    }
   },
   "source": [
    "__Reorder__ cells by:\n",
    "- moving them up and down the notebook using the up and down arrows on the toolbar\n",
    "- `Edit -> Move Cell Up` or `Edit -> Move Cell Down` \n",
    "- cutting and pasting them:\n",
    " - `Edit - >Cut` or `Edit->Paste Cells Above` or `Edit->Paste Cells Below`\n",
    " - on the toolbar, `Cut selected cells` then `Paste selected cells`\n",
    "\n",
    "You can also copy selected cells from the toolbar, `Edit -> Copy Cells` or `ESC-C`."
   ]
  },
  {
   "cell_type": "markdown",
   "metadata": {
    "slideshow": {
     "slide_type": "slide"
    }
   },
   "source": [
    "## Managing Cells - Merging and Splitting\n",
    "\n",
    "If a cell is overlong, you can split it at the cursor point: `Edit -> Split Cell`\n",
    "\n",
    "You can merge two cells that are next two each other. Select one cell and then `Edit -> Merge Cell Above` or  `Edit -> Merge Cell Below`.\n",
    "\n",
    "The cell type (markdown, code, etc) of the merged cell will be the same as the originally selected cell."
   ]
  },
  {
   "cell_type": "markdown",
   "metadata": {
    "slideshow": {
     "slide_type": "slide"
    }
   },
   "source": [
    "## Cell outputs\n",
    "\n",
    "If the last line of code produces an output, the output will be embedded in the notebook below the code cell:"
   ]
  },
  {
   "cell_type": "code",
   "execution_count": 2,
   "metadata": {
    "slideshow": {
     "slide_type": "fragment"
    }
   },
   "outputs": [
    {
     "data": {
      "text/plain": [
       "3"
      ]
     },
     "execution_count": 2,
     "metadata": {},
     "output_type": "execute_result"
    }
   ],
   "source": [
    "a=1\n",
    "b=2\n",
    "\n",
    "a+b"
   ]
  },
  {
   "cell_type": "markdown",
   "metadata": {
    "slideshow": {
     "slide_type": "slide"
    }
   },
   "source": [
    "## We Can Run a Cell to Multiple Times\n",
    "\n",
    "Each time the cell us run, the state of the underlying python process is updated, even if the visual display of other cells in the notebook is not."
   ]
  },
  {
   "cell_type": "code",
   "execution_count": 3,
   "metadata": {
    "slideshow": {
     "slide_type": "fragment"
    }
   },
   "outputs": [
    {
     "name": "stdout",
     "output_type": "stream",
     "text": [
      "1\n"
     ]
    }
   ],
   "source": [
    "print(a)"
   ]
  },
  {
   "cell_type": "code",
   "execution_count": 4,
   "metadata": {
    "slideshow": {
     "slide_type": "fragment"
    }
   },
   "outputs": [
    {
     "data": {
      "text/plain": [
       "2"
      ]
     },
     "execution_count": 4,
     "metadata": {},
     "output_type": "execute_result"
    }
   ],
   "source": [
    "#Run this cell multiple times\n",
    "a=a+1\n",
    "a"
   ]
  },
  {
   "cell_type": "markdown",
   "metadata": {
    "slideshow": {
     "slide_type": "slide"
    }
   },
   "source": [
    "## Code Libraries can be imported via a Code Cell"
   ]
  },
  {
   "cell_type": "code",
   "execution_count": 5,
   "metadata": {
    "slideshow": {
     "slide_type": "fragment"
    }
   },
   "outputs": [
    {
     "data": {
      "text/plain": [
       "3.141592653589793"
      ]
     },
     "execution_count": 5,
     "metadata": {},
     "output_type": "execute_result"
    }
   ],
   "source": [
    "import numpy as np\n",
    "\n",
    "np.pi"
   ]
  },
  {
   "cell_type": "markdown",
   "metadata": {
    "slideshow": {
     "slide_type": "slide"
    }
   },
   "source": [
    "## Clearing Cell Outputs\n",
    "\n",
    "Clear the output of a selected cell: `Cell -> Current Output -> Clear`\n",
    "\n",
    "Clear the output of all cells in the notebook:  `Cell -> All Output -> Clear`\n",
    "\n",
    "Note the the state of the underlying kernel __will not__ be affected - only the rendered display in the notebook."
   ]
  },
  {
   "cell_type": "markdown",
   "metadata": {
    "slideshow": {
     "slide_type": "slide"
    }
   },
   "source": [
    "## Expanding the narrative - Markdown Cells\n",
    "\n",
    "As well as code cells, we can have cells that contain narrative text.\n",
    "\n",
    "Change the cell type using the drop down list in the toolbar, or by using the `ESC-M` keyboard shortcut.\n",
    "\n",
    "To \"open\" or select a markdown cell for editing, double click the cell.\n",
    "\n",
    "View the rendered markdown by running the cell:\n",
    "- hit the play button on the toolbar\n",
    "- use the `SHIFT-RETURN` keyboard shortcut."
   ]
  },
  {
   "cell_type": "markdown",
   "metadata": {
    "slideshow": {
     "slide_type": "slide"
    }
   },
   "source": [
    "# Markdown cells can contain formatted headings\n",
    "\n",
    "Prefix a line of text in a markdown cell by one or more # signs, *followed by a space*, to specify the level of the heading required.\n",
    "\n",
    "````\n",
    "# Heading 1\n",
    "## Heading 2\n",
    "...\n",
    "###### Heading 6\n",
    "````"
   ]
  },
  {
   "cell_type": "markdown",
   "metadata": {
    "slideshow": {
     "slide_type": "slide"
    }
   },
   "source": [
    "## Markdown cells can contain formatted text inline\n",
    "\n",
    "Prefix a heading with one or more # signs, followed by a space.\n",
    "\n",
    "*Emphasise* a word or phrase by wrapping it (no spaces!) with a single * on either side.\n",
    "\n",
    "__Strongly emphasise__ a word or phrase by wrapping it (no spaces!) with two underscores, __, either side."
   ]
  },
  {
   "cell_type": "markdown",
   "metadata": {
    "slideshow": {
     "slide_type": "slide"
    }
   },
   "source": [
    "## Markdown cells can contain lists\n",
    "Create an unnumbered list by prefixing each list item with a -, followed by a space, with each list item on a separate line:\n",
    "- list item 1\n",
    "- list item 2\n",
    "\n",
    "Create a number list by prefixing each list item with a number, followed by a ., followed by a space, with each list item on a separate line:\n",
    "1. numbered item 1\n",
    "2. numbered item 2\n",
    "\n",
    "Add sublists by indenting sublisted items with a space:\n",
    "- list item\n",
    " - sublist item"
   ]
  },
  {
   "cell_type": "markdown",
   "metadata": {
    "slideshow": {
     "slide_type": "slide"
    }
   },
   "source": [
    "## Markdown cells can contain embedded links and images\n",
    "\n",
    "Add a link using the following pattern: `[link text](URL_or_relative_path)`\n",
    "\n",
    "For example, `[Data Carpentry](https://datacarpentry.org)` gives the clickable link: [Data Carpentry](https://datacarpentry.org).\n",
    "\n",
    "Add an image using the following pattern: `[image alt text](URL_or_path)`\n",
    "\n",
    "For example, `[Jupyter logo](./images/jupyter-logo.PNG)` embeds the following image: ![Jupyter logo](./images/Jupyter_logo.PNG)"
   ]
  },
  {
   "cell_type": "markdown",
   "metadata": {
    "slideshow": {
     "slide_type": "slide"
    }
   },
   "source": [
    "## Markdown cells can contain inline styled (non-executable) code\n",
    "\n",
    "Style inline code by including the code in backticks:  *\\`code style\\`* gives `code style` inline.\n",
    "\n",
    "Create a block of code by wrapping it at the start and end with four backticks:\n",
    "\n",
    "````\n",
    "def mycode():\n",
    "    ''' Here is my non-executable code '''\n",
    "    pass\n",
    "````"
   ]
  },
  {
   "cell_type": "markdown",
   "metadata": {
    "slideshow": {
     "slide_type": "slide"
    }
   },
   "source": [
    "## Markdown cells can include Latex Expressions\n",
    "\n",
    "Mathematical expessions can be rendered inline by wrapping a LaTeX expression (no spaces) with a $ either side.\n",
    "\n",
    "For example, `$e^x=\\sum_{i=0}^\\infty \\frac{1}{i!}x^i$` is rendered as the inline $e^x=\\sum_{i=0}^\\infty \\frac{1}{i!}x^i$ expression.\n",
    "\n",
    "Wrapping the expression with `$$` either side forces it to be rendered on a new line in the centre of the cell: $$e^x=\\sum_{i=0}^\\infty \\frac{1}{i!}x^i$$"
   ]
  },
  {
   "cell_type": "markdown",
   "metadata": {
    "slideshow": {
     "slide_type": "slide"
    }
   },
   "source": [
    "## Working Code Cells Harder\n",
    "\n",
    "As well as running code in the kernel, code cells can be used in a couple of other ways."
   ]
  },
  {
   "cell_type": "markdown",
   "metadata": {
    "slideshow": {
     "slide_type": "subslide"
    }
   },
   "source": [
    "### As a command prompt:\n",
    "- as a route to the command line on the desktop of the machine the Jupyter server is running on:\n",
    " - start the code cell with a ! and then enter you command line command.\n",
    " - eg Mac/Linux: `!pwd`\n",
    " - eg WIndows: `!cd`\n",
    " - ! ls *.ipynb for Linux / Mac;\n",
    " - ! dir *.ipynb for Windows"
   ]
  },
  {
   "cell_type": "markdown",
   "metadata": {
    "slideshow": {
     "slide_type": "subslide"
    }
   },
   "source": [
    "### Cell magic:\n",
    "\n",
    "IPython has a notion of cell magics, commands prefixed by a % or %% that run a particular command or wrap content of the cell in some way before executing it.\n",
    "\n",
    "- `%matplotlib inline`: enable the inline display of matplotlib generated graphics\n",
    "- `%whos`: display a list of variables and their values as set in the kernel\n",
    "- `%env`: display a list of environment variables and their current values in the host environment."
   ]
  },
  {
   "cell_type": "markdown",
   "metadata": {
    "slideshow": {
     "slide_type": "slide"
    }
   },
   "source": [
    "## Code cells can produce rich output too\n",
    "\n",
    "Cell outputs can include tables and images"
   ]
  },
  {
   "cell_type": "code",
   "execution_count": 6,
   "metadata": {
    "slideshow": {
     "slide_type": "fragment"
    }
   },
   "outputs": [
    {
     "data": {
      "text/html": [
       "<div>\n",
       "<style scoped>\n",
       "    .dataframe tbody tr th:only-of-type {\n",
       "        vertical-align: middle;\n",
       "    }\n",
       "\n",
       "    .dataframe tbody tr th {\n",
       "        vertical-align: top;\n",
       "    }\n",
       "\n",
       "    .dataframe thead th {\n",
       "        text-align: right;\n",
       "    }\n",
       "</style>\n",
       "<table border=\"1\" class=\"dataframe\">\n",
       "  <thead>\n",
       "    <tr style=\"text-align: right;\">\n",
       "      <th></th>\n",
       "      <th>col1</th>\n",
       "      <th>col2</th>\n",
       "    </tr>\n",
       "  </thead>\n",
       "  <tbody>\n",
       "    <tr>\n",
       "      <th>0</th>\n",
       "      <td>1</td>\n",
       "      <td>x</td>\n",
       "    </tr>\n",
       "    <tr>\n",
       "      <th>1</th>\n",
       "      <td>2</td>\n",
       "      <td>y</td>\n",
       "    </tr>\n",
       "  </tbody>\n",
       "</table>\n",
       "</div>"
      ],
      "text/plain": [
       "   col1 col2\n",
       "0     1    x\n",
       "1     2    y"
      ]
     },
     "execution_count": 6,
     "metadata": {},
     "output_type": "execute_result"
    }
   ],
   "source": [
    "import pandas as pd\n",
    "\n",
    "pd.DataFrame({'col1':[1,2],'col2':['x','y']})"
   ]
  },
  {
   "cell_type": "code",
   "execution_count": 7,
   "metadata": {
    "slideshow": {
     "slide_type": "slide"
    }
   },
   "outputs": [
    {
     "data": {
      "text/plain": [
       "[<matplotlib.lines.Line2D at 0x113b52710>]"
      ]
     },
     "execution_count": 7,
     "metadata": {},
     "output_type": "execute_result"
    },
    {
     "data": {
      "image/png": "[encoded data removed]",
      "text/plain": [
       "<matplotlib.figure.Figure at 0x113a44e10>"
      ]
     },
     "metadata": {},
     "output_type": "display_data"
    }
   ],
   "source": [
    "%matplotlib inline\n",
    "\n",
    "import matplotlib.pyplot as plt\n",
    "\n",
    "# Create 1000 evenly-spaced values from 0 to 2 pi\n",
    "x = np.linspace(0, 2*np.pi, 1000)  \n",
    "\n",
    "#Plot a sine wave over those values\n",
    "y = np.sin(x)\n",
    "\n",
    "plt.plot(x, y)\n",
    "\n",
    "#You can prevent the display of object details returned from the plot by:\n",
    "## - adding a semi-colon (;) at the end of the final statement"
   ]
  },
  {
   "cell_type": "markdown",
   "metadata": {
    "slideshow": {
     "slide_type": "slide"
    }
   },
   "source": [
    "## Notebooks Can be Support Interactive Widgets that Help You Explore a Dataset\n",
    "\n",
    "If you reate a function that accepts one or more parameters, you may be able to use it as the basis of an automatically generated application.\n",
    "\n",
    "For example, suppose we have a function that will plot a sine wave over the range 0..2 pi for a specified frequency, passed into the function as a parameter:"
   ]
  },
  {
   "cell_type": "code",
   "execution_count": 8,
   "metadata": {
    "slideshow": {
     "slide_type": "slide"
    }
   },
   "outputs": [
    {
     "data": {
      "image/png": "[encoded data removed]",
      "text/plain": [
       "<matplotlib.figure.Figure at 0x113afeb00>"
      ]
     },
     "metadata": {},
     "output_type": "display_data"
    }
   ],
   "source": [
    "#If no frequency value is specified, use the default setting: f=1\n",
    "\n",
    "def sinplot(f=1):\n",
    "    #Define a range of x values\n",
    "    x = np.linspace(0, 2*np.pi, 1000)  \n",
    "\n",
    "    #Plot a sine wave with the specified frequency over that range\n",
    "    y = np.sin(f*x)\n",
    "\n",
    "    #Plot the chart\n",
    "    plt.plot(x, y)\n",
    "    \n",
    "sinplot(f=3)"
   ]
  },
  {
   "cell_type": "markdown",
   "metadata": {
    "slideshow": {
     "slide_type": "slide"
    }
   },
   "source": [
    "## Using ipywidgets `interact()`\n",
    "\n",
    "Pass the name of your function, and the default values of the parameters, to the *ipywidgets* `interact()` function to automatically create interactive widgets to control the parameter values."
   ]
  },
  {
   "cell_type": "code",
   "execution_count": 9,
   "metadata": {
    "slideshow": {
     "slide_type": "slide"
    }
   },
   "outputs": [
    {
     "data": {
      "text/plain": [
       "<function __main__.sinplot>"
      ]
     },
     "execution_count": 9,
     "metadata": {},
     "output_type": "execute_result"
    },
    {
     "data": {
      "image/png": "[encoded data removed]",
      "text/plain": [
       "<matplotlib.figure.Figure at 0x112bbd8d0>"
      ]
     },
     "metadata": {},
     "output_type": "display_data"
    }
   ],
   "source": [
    "from ipywidgets import interact\n",
    "\n",
    "interact(sinplot, f=5)"
   ]
  },
  {
   "cell_type": "markdown",
   "metadata": {
    "slideshow": {
     "slide_type": "slide"
    }
   },
   "source": [
    "## Specify the Range of Values Applied to an `interact()` slider\n",
    "\n",
    "Passing in a single number associated with a numerical parameter sets the default (mid-point) of a slider range. Passing in two values sets the range.\n",
    "\n",
    "The defualt value will be the default value set in the function definition."
   ]
  },
  {
   "cell_type": "code",
   "execution_count": 10,
   "metadata": {
    "slideshow": {
     "slide_type": "slide"
    }
   },
   "outputs": [
    {
     "data": {
      "text/plain": [
       "<function __main__.sinplot>"
      ]
     },
     "execution_count": 10,
     "metadata": {},
     "output_type": "execute_result"
    },
    {
     "data": {
      "image/png": "[encoded data removed]",
      "text/plain": [
       "<matplotlib.figure.Figure at 0x113ce28d0>"
      ]
     },
     "metadata": {},
     "output_type": "display_data"
    }
   ],
   "source": [
    "interact(sinplot, f=[1,20])"
   ]
  },
  {
   "cell_type": "code",
   "execution_count": 11,
   "metadata": {
    "slideshow": {
     "slide_type": "slide"
    }
   },
   "outputs": [
    {
     "data": {
      "text/plain": [
       "<function __main__.sinplot>"
      ]
     },
     "execution_count": 11,
     "metadata": {},
     "output_type": "execute_result"
    },
    {
     "data": {
      "image/png": "[encoded data removed]",
      "text/plain": [
       "<matplotlib.figure.Figure at 0x113c2b0b8>"
      ]
     },
     "metadata": {},
     "output_type": "display_data"
    }
   ],
   "source": [
    "interact(sinplot, f=[1,20,5])"
   ]
  },
  {
   "cell_type": "markdown",
   "metadata": {
    "slideshow": {
     "slide_type": "slide"
    }
   },
   "source": [
    "## Navigating Inside a Notebook - Deep Links and Code Line Numbers\n",
    "\n",
    "HTML code an also be included in a markdown cell. Adding an empty anchor tag allows you to create named anchor links that can act as deeplinks into particular parts of the notebook:\n",
    "\n",
    "`<a name='navigation'></a>`\n",
    "\n",
    "Create a complementary relative link to that section in the same notebook:\n",
    "\n",
    "`[Relative link to \"Navigation\" section](#navigation)`\n",
    "\n",
    "Create a link to a similarly anchor named section in different notebook:\n",
    "\n",
    "`[Deeplink into another notebook](http://example.com/example.ipynb#navigation)`\n",
    "\n",
    "To reference lines of code more exactly, toggle line numbering off and on within a cell using: `ESC-L`"
   ]
  },
  {
   "cell_type": "markdown",
   "metadata": {
    "collapsed": true,
    "slideshow": {
     "slide_type": "slide"
    }
   },
   "source": [
    "## Running Multiple Code Cells\n",
    "\n",
    "As well as running one code cell at a time, you can run multiple cells:\n",
    "\n",
    "- `Cells -> Run All Above`\n",
    "- `Cells -> Run All Below`\n",
    "- `Cells -> Run All`\n",
    "\n",
    "Note that this will run cells taking into account the current state of the underlying kernel."
   ]
  },
  {
   "cell_type": "markdown",
   "metadata": {
    "slideshow": {
     "slide_type": "slide"
    }
   },
   "source": [
    "## Saving, Checkpointing and Reverting the Notebook\n",
    "\n",
    "The notebook wil autosave every few minutes.\n",
    "\n",
    "You can also create a checkpoint using the floppy/save icon on the toolbar or `File -> Save and Checkpoint`.\n",
    "\n",
    "You can revert the notebook to a saved checkpoint using `File -> Revert to Saved Checkpoint`."
   ]
  },
  {
   "cell_type": "markdown",
   "metadata": {
    "slideshow": {
     "slide_type": "slide"
    }
   },
   "source": [
    "## Checking Reproducibility\n",
    "\n",
    "One of the aims of using notebooks is to produce an executable document that can be rerun to reproduce the results.\n",
    "\n",
    "To run cells from scratch (i.e. from a fresh kernel), `Kernel -> Restart and Clear Output` and then run the cells you want.\n",
    "\n",
    "To run all the cells in the notebook from scratch: `Kernel -> Restart and Run All`"
   ]
  },
  {
   "cell_type": "markdown",
   "metadata": {
    "slideshow": {
     "slide_type": "slide"
    }
   },
   "source": [
    "## Troubleshooting - Permanently Running Cells\n",
    "\n",
    "Code cells that are running (or queued for running) display an asterisk in the cell `In []` indicator.\n",
    "\n",
    "To stop execution of a running cell (and prevent queued cells from executing):\n",
    "- press the stop button on the toolbar\n",
    "- `Kernel -> Interrupt`\n",
    "\n",
    "If the notebook is still hanging, you may need to restart the kernel:  `Kernel -> Restart`"
   ]
  },
  {
   "cell_type": "markdown",
   "metadata": {
    "slideshow": {
     "slide_type": "slide"
    }
   },
   "source": [
    "## Troubleshooting - Getting Help\n",
    "\n",
    "Code cells support autocomplete - so start typing and then tab to see what options are available...\n",
    "\n",
    "Access documentation for a function - add a `?` and run the cell: `pd.DataFrame?`"
   ]
  },
  {
   "cell_type": "markdown",
   "metadata": {
    "slideshow": {
     "slide_type": "slide"
    }
   },
   "source": [
    "## And finally...\n",
    "\n",
    "This slide deck was produced from a notebook styled as a slidedeck :)\n",
    "\n",
    "- `View -> Cell Toolbar -> Slideshow`, and then either:\n",
    "- `jupyter nbconvert slideTest.ipynb --to slides --post serve`, or\n",
    "- `jupyter nbconvert slideTest.ipynb --to slides && python -m SimpleHTTPServer 8000` #then go to localhost:8000 in browser\n"
   ]
  }
 ],
 "metadata": {
  "celltoolbar": "Slideshow",
  "kernelspec": {
   "display_name": "Python [default]",
   "language": "python",
   "name": "python3"
  },
  "language_info": {
   "codemirror_mode": {
    "name": "ipython",
    "version": 3
   },
   "file_extension": ".py",
   "mimetype": "text/x-python",
   "name": "python",
   "nbconvert_exporter": "python",
   "pygments_lexer": "ipython3",
   "version": "3.5.4"
  }
 },
 "nbformat": 4,
 "nbformat_minor": 2
}
